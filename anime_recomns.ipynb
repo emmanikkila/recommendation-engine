{
 "cells": [
  {
   "cell_type": "markdown",
   "id": "6ec3cf56-62e9-4d5a-802f-05eb76d47638",
   "metadata": {},
   "source": [
    "# Recommendation Engine - Anime Recommendations\n",
    "\n",
    "### Aim of the Assignment\n",
    "The raport looks into Anime Film dataset and provides top-10 recommendations for customers based on their previous reviews. \n",
    "\n",
    "### About the Dataset\n",
    "Source: [Kaggle](https://www.kaggle.com/datasets/CooperUnion/anime-recommendations-database) \\\n",
    "The dataset of two csv files contains information on user preference data from 73,516 users on 12,294 anime. Each user is able to add anime to their completed list and give it a rating and this data set is a compilation of those ratings.\n"
   ]
  },
  {
   "cell_type": "markdown",
   "id": "a95c34fa-a1d6-41f6-b0ee-42862525816c",
   "metadata": {},
   "source": [
    "## 1. Load and Transform the Data"
   ]
  },
  {
   "cell_type": "code",
   "execution_count": 1,
   "id": "0a324679-0972-446c-a355-dcbdd4748ce8",
   "metadata": {},
   "outputs": [],
   "source": [
    "import pandas as pd\n",
    "import numpy as np\n",
    "import seaborn as sns\n",
    "import warnings\n",
    "warnings.filterwarnings(\"ignore\")\n",
    "from collections import defaultdict\n",
    "from surprise import Reader\n",
    "from surprise import KNNBasic\n",
    "from surprise import Dataset\n",
    "from surprise.model_selection import cross_validate"
   ]
  },
  {
   "cell_type": "code",
   "execution_count": 2,
   "id": "6cdb4dab-4510-443c-bcc9-2b2630d73a43",
   "metadata": {},
   "outputs": [],
   "source": [
    "ratings_df = pd.read_csv('rating.csv')\n",
    "#as the dataset is large, select only first 1000 columns\n",
    "ratings_df =ratings_df.head(5000)"
   ]
  },
  {
   "cell_type": "code",
   "execution_count": 3,
   "id": "ac849cf5-3d06-4e45-96bf-9ba8ad2eaea0",
   "metadata": {},
   "outputs": [
    {
     "data": {
      "text/plain": [
       "(5000, 3)"
      ]
     },
     "execution_count": 3,
     "metadata": {},
     "output_type": "execute_result"
    }
   ],
   "source": [
    "ratings_df.shape"
   ]
  },
  {
   "cell_type": "code",
   "execution_count": 4,
   "id": "2a3591a9-b414-4748-8ab7-1c9175d75d40",
   "metadata": {},
   "outputs": [
    {
     "data": {
      "text/html": [
       "<div>\n",
       "<style scoped>\n",
       "    .dataframe tbody tr th:only-of-type {\n",
       "        vertical-align: middle;\n",
       "    }\n",
       "\n",
       "    .dataframe tbody tr th {\n",
       "        vertical-align: top;\n",
       "    }\n",
       "\n",
       "    .dataframe thead th {\n",
       "        text-align: right;\n",
       "    }\n",
       "</style>\n",
       "<table border=\"1\" class=\"dataframe\">\n",
       "  <thead>\n",
       "    <tr style=\"text-align: right;\">\n",
       "      <th></th>\n",
       "      <th>user_id</th>\n",
       "      <th>anime_id</th>\n",
       "      <th>rating</th>\n",
       "    </tr>\n",
       "  </thead>\n",
       "  <tbody>\n",
       "    <tr>\n",
       "      <th>0</th>\n",
       "      <td>1</td>\n",
       "      <td>20</td>\n",
       "      <td>-1</td>\n",
       "    </tr>\n",
       "    <tr>\n",
       "      <th>1</th>\n",
       "      <td>1</td>\n",
       "      <td>24</td>\n",
       "      <td>-1</td>\n",
       "    </tr>\n",
       "    <tr>\n",
       "      <th>2</th>\n",
       "      <td>1</td>\n",
       "      <td>79</td>\n",
       "      <td>-1</td>\n",
       "    </tr>\n",
       "    <tr>\n",
       "      <th>3</th>\n",
       "      <td>1</td>\n",
       "      <td>226</td>\n",
       "      <td>-1</td>\n",
       "    </tr>\n",
       "    <tr>\n",
       "      <th>4</th>\n",
       "      <td>1</td>\n",
       "      <td>241</td>\n",
       "      <td>-1</td>\n",
       "    </tr>\n",
       "    <tr>\n",
       "      <th>...</th>\n",
       "      <td>...</td>\n",
       "      <td>...</td>\n",
       "      <td>...</td>\n",
       "    </tr>\n",
       "    <tr>\n",
       "      <th>4995</th>\n",
       "      <td>51</td>\n",
       "      <td>849</td>\n",
       "      <td>8</td>\n",
       "    </tr>\n",
       "    <tr>\n",
       "      <th>4996</th>\n",
       "      <td>51</td>\n",
       "      <td>853</td>\n",
       "      <td>8</td>\n",
       "    </tr>\n",
       "    <tr>\n",
       "      <th>4997</th>\n",
       "      <td>51</td>\n",
       "      <td>877</td>\n",
       "      <td>10</td>\n",
       "    </tr>\n",
       "    <tr>\n",
       "      <th>4998</th>\n",
       "      <td>51</td>\n",
       "      <td>889</td>\n",
       "      <td>9</td>\n",
       "    </tr>\n",
       "    <tr>\n",
       "      <th>4999</th>\n",
       "      <td>51</td>\n",
       "      <td>953</td>\n",
       "      <td>6</td>\n",
       "    </tr>\n",
       "  </tbody>\n",
       "</table>\n",
       "<p>5000 rows × 3 columns</p>\n",
       "</div>"
      ],
      "text/plain": [
       "      user_id  anime_id  rating\n",
       "0           1        20      -1\n",
       "1           1        24      -1\n",
       "2           1        79      -1\n",
       "3           1       226      -1\n",
       "4           1       241      -1\n",
       "...       ...       ...     ...\n",
       "4995       51       849       8\n",
       "4996       51       853       8\n",
       "4997       51       877      10\n",
       "4998       51       889       9\n",
       "4999       51       953       6\n",
       "\n",
       "[5000 rows x 3 columns]"
      ]
     },
     "execution_count": 4,
     "metadata": {},
     "output_type": "execute_result"
    }
   ],
   "source": [
    "ratings_df"
   ]
  },
  {
   "cell_type": "code",
   "execution_count": 5,
   "id": "c826f2fa-f8ca-40dc-8cc8-41564160d5f6",
   "metadata": {},
   "outputs": [
    {
     "data": {
      "text/plain": [
       "(3927, 3)"
      ]
     },
     "execution_count": 5,
     "metadata": {},
     "output_type": "execute_result"
    }
   ],
   "source": [
    "#notice the data has a lot of -1 values (movie watched but not rated)\n",
    "#as unnecessary, remove them\n",
    "ratings_df.drop(ratings_df.loc[ratings_df['rating']==-1].index, inplace=True)\n",
    "ratings_df.shape"
   ]
  },
  {
   "cell_type": "code",
   "execution_count": 6,
   "id": "7ff29c62-610e-4e45-b06e-78db118854df",
   "metadata": {},
   "outputs": [
    {
     "data": {
      "text/html": [
       "<div>\n",
       "<style scoped>\n",
       "    .dataframe tbody tr th:only-of-type {\n",
       "        vertical-align: middle;\n",
       "    }\n",
       "\n",
       "    .dataframe tbody tr th {\n",
       "        vertical-align: top;\n",
       "    }\n",
       "\n",
       "    .dataframe thead th {\n",
       "        text-align: right;\n",
       "    }\n",
       "</style>\n",
       "<table border=\"1\" class=\"dataframe\">\n",
       "  <thead>\n",
       "    <tr style=\"text-align: right;\">\n",
       "      <th></th>\n",
       "      <th>anime_id</th>\n",
       "      <th>name</th>\n",
       "      <th>genre</th>\n",
       "      <th>type</th>\n",
       "      <th>episodes</th>\n",
       "      <th>rating</th>\n",
       "      <th>members</th>\n",
       "    </tr>\n",
       "  </thead>\n",
       "  <tbody>\n",
       "    <tr>\n",
       "      <th>0</th>\n",
       "      <td>32281</td>\n",
       "      <td>Kimi no Na wa.</td>\n",
       "      <td>Drama, Romance, School, Supernatural</td>\n",
       "      <td>Movie</td>\n",
       "      <td>1</td>\n",
       "      <td>9.37</td>\n",
       "      <td>200630</td>\n",
       "    </tr>\n",
       "    <tr>\n",
       "      <th>1</th>\n",
       "      <td>5114</td>\n",
       "      <td>Fullmetal Alchemist: Brotherhood</td>\n",
       "      <td>Action, Adventure, Drama, Fantasy, Magic, Mili...</td>\n",
       "      <td>TV</td>\n",
       "      <td>64</td>\n",
       "      <td>9.26</td>\n",
       "      <td>793665</td>\n",
       "    </tr>\n",
       "    <tr>\n",
       "      <th>2</th>\n",
       "      <td>28977</td>\n",
       "      <td>Gintama°</td>\n",
       "      <td>Action, Comedy, Historical, Parody, Samurai, S...</td>\n",
       "      <td>TV</td>\n",
       "      <td>51</td>\n",
       "      <td>9.25</td>\n",
       "      <td>114262</td>\n",
       "    </tr>\n",
       "    <tr>\n",
       "      <th>3</th>\n",
       "      <td>9253</td>\n",
       "      <td>Steins;Gate</td>\n",
       "      <td>Sci-Fi, Thriller</td>\n",
       "      <td>TV</td>\n",
       "      <td>24</td>\n",
       "      <td>9.17</td>\n",
       "      <td>673572</td>\n",
       "    </tr>\n",
       "    <tr>\n",
       "      <th>4</th>\n",
       "      <td>9969</td>\n",
       "      <td>Gintama&amp;#039;</td>\n",
       "      <td>Action, Comedy, Historical, Parody, Samurai, S...</td>\n",
       "      <td>TV</td>\n",
       "      <td>51</td>\n",
       "      <td>9.16</td>\n",
       "      <td>151266</td>\n",
       "    </tr>\n",
       "  </tbody>\n",
       "</table>\n",
       "</div>"
      ],
      "text/plain": [
       "   anime_id                              name  \\\n",
       "0     32281                    Kimi no Na wa.   \n",
       "1      5114  Fullmetal Alchemist: Brotherhood   \n",
       "2     28977                          Gintama°   \n",
       "3      9253                       Steins;Gate   \n",
       "4      9969                     Gintama&#039;   \n",
       "\n",
       "                                               genre   type episodes  rating  \\\n",
       "0               Drama, Romance, School, Supernatural  Movie        1    9.37   \n",
       "1  Action, Adventure, Drama, Fantasy, Magic, Mili...     TV       64    9.26   \n",
       "2  Action, Comedy, Historical, Parody, Samurai, S...     TV       51    9.25   \n",
       "3                                   Sci-Fi, Thriller     TV       24    9.17   \n",
       "4  Action, Comedy, Historical, Parody, Samurai, S...     TV       51    9.16   \n",
       "\n",
       "   members  \n",
       "0   200630  \n",
       "1   793665  \n",
       "2   114262  \n",
       "3   673572  \n",
       "4   151266  "
      ]
     },
     "execution_count": 6,
     "metadata": {},
     "output_type": "execute_result"
    }
   ],
   "source": [
    "anime_df = pd.read_csv('anime.csv')\n",
    "anime_df.head()"
   ]
  },
  {
   "cell_type": "code",
   "execution_count": 7,
   "id": "fef6415b-42b4-4822-9a4f-9ee1c947c657",
   "metadata": {},
   "outputs": [
    {
     "data": {
      "text/plain": [
       "(12294, 7)"
      ]
     },
     "execution_count": 7,
     "metadata": {},
     "output_type": "execute_result"
    }
   ],
   "source": [
    "anime_df.shape"
   ]
  },
  {
   "cell_type": "code",
   "execution_count": 8,
   "id": "fefae601-cdd3-4715-8156-f266dab29e9f",
   "metadata": {},
   "outputs": [
    {
     "data": {
      "text/plain": [
       "user_id     0\n",
       "anime_id    0\n",
       "rating      0\n",
       "dtype: int64"
      ]
     },
     "execution_count": 8,
     "metadata": {},
     "output_type": "execute_result"
    }
   ],
   "source": [
    "#check the number of missing values\n",
    "nan_count = ratings_df.isna().sum()\n",
    "nan_count"
   ]
  },
  {
   "cell_type": "code",
   "execution_count": 9,
   "id": "5723f68d-a61a-44d8-8119-3673c87de4fb",
   "metadata": {},
   "outputs": [
    {
     "data": {
      "text/plain": [
       "anime_id      0\n",
       "name          0\n",
       "genre        62\n",
       "type         25\n",
       "episodes      0\n",
       "rating      230\n",
       "members       0\n",
       "dtype: int64"
      ]
     },
     "execution_count": 9,
     "metadata": {},
     "output_type": "execute_result"
    }
   ],
   "source": [
    "nan_count = anime_df.isna().sum()\n",
    "nan_count"
   ]
  },
  {
   "cell_type": "code",
   "execution_count": 10,
   "id": "f9b16698-2dc2-4cc3-a068-159e5e581b0c",
   "metadata": {},
   "outputs": [
    {
     "data": {
      "text/plain": [
       "0"
      ]
     },
     "execution_count": 10,
     "metadata": {},
     "output_type": "execute_result"
    }
   ],
   "source": [
    "#check the number of duplicates\n",
    "dups_count = anime_df.duplicated()\n",
    "dups_count.sum()"
   ]
  },
  {
   "cell_type": "code",
   "execution_count": 11,
   "id": "ee54071c-98ee-4d62-a9cf-7ba8f90cb463",
   "metadata": {},
   "outputs": [
    {
     "data": {
      "text/plain": [
       "0"
      ]
     },
     "execution_count": 11,
     "metadata": {},
     "output_type": "execute_result"
    }
   ],
   "source": [
    "dups_count = ratings_df.duplicated()\n",
    "dups_count.sum()"
   ]
  },
  {
   "cell_type": "code",
   "execution_count": 12,
   "id": "0cd20f20-8289-4506-bbd2-7d2dd4d0e7c4",
   "metadata": {},
   "outputs": [
    {
     "data": {
      "text/html": [
       "<div>\n",
       "<style scoped>\n",
       "    .dataframe tbody tr th:only-of-type {\n",
       "        vertical-align: middle;\n",
       "    }\n",
       "\n",
       "    .dataframe tbody tr th {\n",
       "        vertical-align: top;\n",
       "    }\n",
       "\n",
       "    .dataframe thead th {\n",
       "        text-align: right;\n",
       "    }\n",
       "</style>\n",
       "<table border=\"1\" class=\"dataframe\">\n",
       "  <thead>\n",
       "    <tr style=\"text-align: right;\">\n",
       "      <th></th>\n",
       "      <th>user_id</th>\n",
       "      <th>anime_id</th>\n",
       "      <th>rating_x</th>\n",
       "      <th>name</th>\n",
       "      <th>genre</th>\n",
       "      <th>type</th>\n",
       "      <th>episodes</th>\n",
       "      <th>rating_y</th>\n",
       "      <th>members</th>\n",
       "    </tr>\n",
       "  </thead>\n",
       "  <tbody>\n",
       "    <tr>\n",
       "      <th>0</th>\n",
       "      <td>1</td>\n",
       "      <td>8074</td>\n",
       "      <td>10</td>\n",
       "      <td>Highschool of the Dead</td>\n",
       "      <td>Action, Ecchi, Horror, Supernatural</td>\n",
       "      <td>TV</td>\n",
       "      <td>12</td>\n",
       "      <td>7.46</td>\n",
       "      <td>535892</td>\n",
       "    </tr>\n",
       "    <tr>\n",
       "      <th>1</th>\n",
       "      <td>1</td>\n",
       "      <td>11617</td>\n",
       "      <td>10</td>\n",
       "      <td>High School DxD</td>\n",
       "      <td>Comedy, Demons, Ecchi, Harem, Romance, School</td>\n",
       "      <td>TV</td>\n",
       "      <td>12</td>\n",
       "      <td>7.70</td>\n",
       "      <td>398660</td>\n",
       "    </tr>\n",
       "    <tr>\n",
       "      <th>2</th>\n",
       "      <td>1</td>\n",
       "      <td>11757</td>\n",
       "      <td>10</td>\n",
       "      <td>Sword Art Online</td>\n",
       "      <td>Action, Adventure, Fantasy, Game, Romance</td>\n",
       "      <td>TV</td>\n",
       "      <td>25</td>\n",
       "      <td>7.83</td>\n",
       "      <td>893100</td>\n",
       "    </tr>\n",
       "    <tr>\n",
       "      <th>3</th>\n",
       "      <td>1</td>\n",
       "      <td>15451</td>\n",
       "      <td>10</td>\n",
       "      <td>High School DxD New</td>\n",
       "      <td>Action, Comedy, Demons, Ecchi, Harem, Romance,...</td>\n",
       "      <td>TV</td>\n",
       "      <td>12</td>\n",
       "      <td>7.87</td>\n",
       "      <td>266657</td>\n",
       "    </tr>\n",
       "    <tr>\n",
       "      <th>4</th>\n",
       "      <td>2</td>\n",
       "      <td>11771</td>\n",
       "      <td>10</td>\n",
       "      <td>Kuroko no Basket</td>\n",
       "      <td>Comedy, School, Shounen, Sports</td>\n",
       "      <td>TV</td>\n",
       "      <td>25</td>\n",
       "      <td>8.46</td>\n",
       "      <td>338315</td>\n",
       "    </tr>\n",
       "    <tr>\n",
       "      <th>...</th>\n",
       "      <td>...</td>\n",
       "      <td>...</td>\n",
       "      <td>...</td>\n",
       "      <td>...</td>\n",
       "      <td>...</td>\n",
       "      <td>...</td>\n",
       "      <td>...</td>\n",
       "      <td>...</td>\n",
       "      <td>...</td>\n",
       "    </tr>\n",
       "    <tr>\n",
       "      <th>3922</th>\n",
       "      <td>51</td>\n",
       "      <td>849</td>\n",
       "      <td>8</td>\n",
       "      <td>Suzumiya Haruhi no Yuuutsu</td>\n",
       "      <td>Comedy, Mystery, Parody, School, Sci-Fi, Slice...</td>\n",
       "      <td>TV</td>\n",
       "      <td>14</td>\n",
       "      <td>8.06</td>\n",
       "      <td>428569</td>\n",
       "    </tr>\n",
       "    <tr>\n",
       "      <th>3923</th>\n",
       "      <td>51</td>\n",
       "      <td>853</td>\n",
       "      <td>8</td>\n",
       "      <td>Ouran Koukou Host Club</td>\n",
       "      <td>Comedy, Harem, Romance, School, Shoujo</td>\n",
       "      <td>TV</td>\n",
       "      <td>26</td>\n",
       "      <td>8.39</td>\n",
       "      <td>422271</td>\n",
       "    </tr>\n",
       "    <tr>\n",
       "      <th>3924</th>\n",
       "      <td>51</td>\n",
       "      <td>877</td>\n",
       "      <td>10</td>\n",
       "      <td>Nana</td>\n",
       "      <td>Comedy, Drama, Music, Romance, Shoujo, Slice o...</td>\n",
       "      <td>TV</td>\n",
       "      <td>47</td>\n",
       "      <td>8.55</td>\n",
       "      <td>197256</td>\n",
       "    </tr>\n",
       "    <tr>\n",
       "      <th>3925</th>\n",
       "      <td>51</td>\n",
       "      <td>889</td>\n",
       "      <td>9</td>\n",
       "      <td>Black Lagoon</td>\n",
       "      <td>Action, Seinen</td>\n",
       "      <td>TV</td>\n",
       "      <td>12</td>\n",
       "      <td>8.17</td>\n",
       "      <td>332562</td>\n",
       "    </tr>\n",
       "    <tr>\n",
       "      <th>3926</th>\n",
       "      <td>51</td>\n",
       "      <td>953</td>\n",
       "      <td>6</td>\n",
       "      <td>Jyu Oh Sei</td>\n",
       "      <td>Action, Adventure, Drama, Mystery, Sci-Fi, Shoujo</td>\n",
       "      <td>TV</td>\n",
       "      <td>11</td>\n",
       "      <td>7.41</td>\n",
       "      <td>44766</td>\n",
       "    </tr>\n",
       "  </tbody>\n",
       "</table>\n",
       "<p>3927 rows × 9 columns</p>\n",
       "</div>"
      ],
      "text/plain": [
       "      user_id  anime_id  rating_x                        name  \\\n",
       "0           1      8074        10      Highschool of the Dead   \n",
       "1           1     11617        10             High School DxD   \n",
       "2           1     11757        10            Sword Art Online   \n",
       "3           1     15451        10         High School DxD New   \n",
       "4           2     11771        10            Kuroko no Basket   \n",
       "...       ...       ...       ...                         ...   \n",
       "3922       51       849         8  Suzumiya Haruhi no Yuuutsu   \n",
       "3923       51       853         8      Ouran Koukou Host Club   \n",
       "3924       51       877        10                        Nana   \n",
       "3925       51       889         9                Black Lagoon   \n",
       "3926       51       953         6                  Jyu Oh Sei   \n",
       "\n",
       "                                                  genre type episodes  \\\n",
       "0                   Action, Ecchi, Horror, Supernatural   TV       12   \n",
       "1         Comedy, Demons, Ecchi, Harem, Romance, School   TV       12   \n",
       "2             Action, Adventure, Fantasy, Game, Romance   TV       25   \n",
       "3     Action, Comedy, Demons, Ecchi, Harem, Romance,...   TV       12   \n",
       "4                       Comedy, School, Shounen, Sports   TV       25   \n",
       "...                                                 ...  ...      ...   \n",
       "3922  Comedy, Mystery, Parody, School, Sci-Fi, Slice...   TV       14   \n",
       "3923             Comedy, Harem, Romance, School, Shoujo   TV       26   \n",
       "3924  Comedy, Drama, Music, Romance, Shoujo, Slice o...   TV       47   \n",
       "3925                                     Action, Seinen   TV       12   \n",
       "3926  Action, Adventure, Drama, Mystery, Sci-Fi, Shoujo   TV       11   \n",
       "\n",
       "      rating_y  members  \n",
       "0         7.46   535892  \n",
       "1         7.70   398660  \n",
       "2         7.83   893100  \n",
       "3         7.87   266657  \n",
       "4         8.46   338315  \n",
       "...        ...      ...  \n",
       "3922      8.06   428569  \n",
       "3923      8.39   422271  \n",
       "3924      8.55   197256  \n",
       "3925      8.17   332562  \n",
       "3926      7.41    44766  \n",
       "\n",
       "[3927 rows x 9 columns]"
      ]
     },
     "execution_count": 12,
     "metadata": {},
     "output_type": "execute_result"
    }
   ],
   "source": [
    "df = ratings_df.merge(anime_df, left_on='anime_id', right_on='anime_id', how='left')\n",
    "df"
   ]
  },
  {
   "cell_type": "code",
   "execution_count": 13,
   "id": "3a6cedda-8edd-415e-87c8-f26e7a5ff8e6",
   "metadata": {},
   "outputs": [
    {
     "data": {
      "text/plain": [
       "(3927, 9)"
      ]
     },
     "execution_count": 13,
     "metadata": {},
     "output_type": "execute_result"
    }
   ],
   "source": [
    "df.shape"
   ]
  },
  {
   "cell_type": "code",
   "execution_count": 14,
   "id": "8b63f150-9328-46a7-8613-b72a5c602912",
   "metadata": {},
   "outputs": [
    {
     "data": {
      "text/html": [
       "<div>\n",
       "<style scoped>\n",
       "    .dataframe tbody tr th:only-of-type {\n",
       "        vertical-align: middle;\n",
       "    }\n",
       "\n",
       "    .dataframe tbody tr th {\n",
       "        vertical-align: top;\n",
       "    }\n",
       "\n",
       "    .dataframe thead th {\n",
       "        text-align: right;\n",
       "    }\n",
       "</style>\n",
       "<table border=\"1\" class=\"dataframe\">\n",
       "  <thead>\n",
       "    <tr style=\"text-align: right;\">\n",
       "      <th></th>\n",
       "      <th>user_id</th>\n",
       "      <th>anime_id</th>\n",
       "      <th>rating_x</th>\n",
       "      <th>rating_y</th>\n",
       "      <th>members</th>\n",
       "    </tr>\n",
       "  </thead>\n",
       "  <tbody>\n",
       "    <tr>\n",
       "      <th>count</th>\n",
       "      <td>3927.000000</td>\n",
       "      <td>3927.000000</td>\n",
       "      <td>3927.000000</td>\n",
       "      <td>3927.000000</td>\n",
       "      <td>3.927000e+03</td>\n",
       "    </tr>\n",
       "    <tr>\n",
       "      <th>mean</th>\n",
       "      <td>26.154571</td>\n",
       "      <td>11297.134199</td>\n",
       "      <td>7.396741</td>\n",
       "      <td>7.702936</td>\n",
       "      <td>2.060340e+05</td>\n",
       "    </tr>\n",
       "    <tr>\n",
       "      <th>std</th>\n",
       "      <td>15.703629</td>\n",
       "      <td>9327.383526</td>\n",
       "      <td>2.059104</td>\n",
       "      <td>0.677744</td>\n",
       "      <td>1.946431e+05</td>\n",
       "    </tr>\n",
       "    <tr>\n",
       "      <th>min</th>\n",
       "      <td>1.000000</td>\n",
       "      <td>1.000000</td>\n",
       "      <td>1.000000</td>\n",
       "      <td>2.000000</td>\n",
       "      <td>3.930000e+02</td>\n",
       "    </tr>\n",
       "    <tr>\n",
       "      <th>25%</th>\n",
       "      <td>11.000000</td>\n",
       "      <td>2421.000000</td>\n",
       "      <td>7.000000</td>\n",
       "      <td>7.330000</td>\n",
       "      <td>6.731650e+04</td>\n",
       "    </tr>\n",
       "    <tr>\n",
       "      <th>50%</th>\n",
       "      <td>25.000000</td>\n",
       "      <td>10020.000000</td>\n",
       "      <td>8.000000</td>\n",
       "      <td>7.710000</td>\n",
       "      <td>1.405010e+05</td>\n",
       "    </tr>\n",
       "    <tr>\n",
       "      <th>75%</th>\n",
       "      <td>43.000000</td>\n",
       "      <td>18039.000000</td>\n",
       "      <td>9.000000</td>\n",
       "      <td>8.170000</td>\n",
       "      <td>2.868260e+05</td>\n",
       "    </tr>\n",
       "    <tr>\n",
       "      <th>max</th>\n",
       "      <td>51.000000</td>\n",
       "      <td>34240.000000</td>\n",
       "      <td>10.000000</td>\n",
       "      <td>9.260000</td>\n",
       "      <td>1.013917e+06</td>\n",
       "    </tr>\n",
       "  </tbody>\n",
       "</table>\n",
       "</div>"
      ],
      "text/plain": [
       "           user_id      anime_id     rating_x     rating_y       members\n",
       "count  3927.000000   3927.000000  3927.000000  3927.000000  3.927000e+03\n",
       "mean     26.154571  11297.134199     7.396741     7.702936  2.060340e+05\n",
       "std      15.703629   9327.383526     2.059104     0.677744  1.946431e+05\n",
       "min       1.000000      1.000000     1.000000     2.000000  3.930000e+02\n",
       "25%      11.000000   2421.000000     7.000000     7.330000  6.731650e+04\n",
       "50%      25.000000  10020.000000     8.000000     7.710000  1.405010e+05\n",
       "75%      43.000000  18039.000000     9.000000     8.170000  2.868260e+05\n",
       "max      51.000000  34240.000000    10.000000     9.260000  1.013917e+06"
      ]
     },
     "execution_count": 14,
     "metadata": {},
     "output_type": "execute_result"
    }
   ],
   "source": [
    "df.describe()"
   ]
  },
  {
   "cell_type": "code",
   "execution_count": 15,
   "id": "77326053-3c1a-4702-bff8-7460ca2f1e56",
   "metadata": {},
   "outputs": [
    {
     "name": "stdout",
     "output_type": "stream",
     "text": [
      "<class 'pandas.core.frame.DataFrame'>\n",
      "RangeIndex: 3927 entries, 0 to 3926\n",
      "Data columns (total 9 columns):\n",
      " #   Column    Non-Null Count  Dtype  \n",
      "---  ------    --------------  -----  \n",
      " 0   user_id   3927 non-null   int64  \n",
      " 1   anime_id  3927 non-null   int64  \n",
      " 2   rating_x  3927 non-null   int64  \n",
      " 3   name      3927 non-null   object \n",
      " 4   genre     3927 non-null   object \n",
      " 5   type      3927 non-null   object \n",
      " 6   episodes  3927 non-null   object \n",
      " 7   rating_y  3927 non-null   float64\n",
      " 8   members   3927 non-null   int64  \n",
      "dtypes: float64(1), int64(4), object(4)\n",
      "memory usage: 276.2+ KB\n"
     ]
    }
   ],
   "source": [
    "df.info()\n",
    "#check that no nan values in the final dataframe"
   ]
  },
  {
   "cell_type": "code",
   "execution_count": 16,
   "id": "54de0513-22c8-481d-8404-b9f4bcd09627",
   "metadata": {},
   "outputs": [
    {
     "name": "stdout",
     "output_type": "stream",
     "text": [
      "Number of unique values in each column:\n",
      " user_id       47\n",
      "anime_id    1508\n",
      "rating_x      10\n",
      "name        1508\n",
      "genre        927\n",
      "type           6\n",
      "episodes      84\n",
      "rating_y     311\n",
      "members     1498\n",
      "dtype: int64\n"
     ]
    }
   ],
   "source": [
    "n = df.nunique(axis=0)\n",
    " \n",
    "print(\"Number of unique values in each column:\\n\",\n",
    "      n)"
   ]
  },
  {
   "cell_type": "markdown",
   "id": "b24b2f0a-a9de-4f3a-bc43-c8bd4d483b09",
   "metadata": {},
   "source": [
    "## 2. Check the value distributions in the dataset"
   ]
  },
  {
   "cell_type": "code",
   "execution_count": 17,
   "id": "a381dc6a-5734-4581-a8b3-30c27ebac6db",
   "metadata": {},
   "outputs": [
    {
     "data": {
      "text/plain": [
       "name\n",
       "Sword Art Online                    25\n",
       "Death Note                          22\n",
       "Shingeki no Kyojin                  20\n",
       "Angel Beats!                        19\n",
       "Clannad                             17\n",
       "Highschool of the Dead              16\n",
       "Mirai Nikki (TV)                    16\n",
       "Code Geass: Hangyaku no Lelouch     16\n",
       "Clannad: After Story                15\n",
       "Fullmetal Alchemist: Brotherhood    15\n",
       "Name: count, dtype: int64"
      ]
     },
     "execution_count": 17,
     "metadata": {},
     "output_type": "execute_result"
    }
   ],
   "source": [
    "#check the most frequently watched animes in the dataset\n",
    "popular_animes = df['name'].value_counts()\n",
    "popular_animes.head(10)"
   ]
  },
  {
   "cell_type": "code",
   "execution_count": 28,
   "id": "57a3a7b8-edab-4f3f-9396-83ca1f54e1d8",
   "metadata": {},
   "outputs": [
    {
     "data": {
      "text/html": [
       "<div>\n",
       "<style scoped>\n",
       "    .dataframe tbody tr th:only-of-type {\n",
       "        vertical-align: middle;\n",
       "    }\n",
       "\n",
       "    .dataframe tbody tr th {\n",
       "        vertical-align: top;\n",
       "    }\n",
       "\n",
       "    .dataframe thead th {\n",
       "        text-align: right;\n",
       "    }\n",
       "</style>\n",
       "<table border=\"1\" class=\"dataframe\">\n",
       "  <thead>\n",
       "    <tr style=\"text-align: right;\">\n",
       "      <th></th>\n",
       "      <th>user_id</th>\n",
       "      <th>anime_id</th>\n",
       "      <th>rating_x</th>\n",
       "      <th>name</th>\n",
       "      <th>genre</th>\n",
       "      <th>type</th>\n",
       "      <th>episodes</th>\n",
       "      <th>rating_y</th>\n",
       "      <th>members</th>\n",
       "    </tr>\n",
       "  </thead>\n",
       "  <tbody>\n",
       "    <tr>\n",
       "      <th>0</th>\n",
       "      <td>1</td>\n",
       "      <td>8074</td>\n",
       "      <td>10</td>\n",
       "      <td>Highschool of the Dead</td>\n",
       "      <td>Action, Ecchi, Horror, Supernatural</td>\n",
       "      <td>TV</td>\n",
       "      <td>12</td>\n",
       "      <td>7.46</td>\n",
       "      <td>535892</td>\n",
       "    </tr>\n",
       "    <tr>\n",
       "      <th>1</th>\n",
       "      <td>1</td>\n",
       "      <td>11617</td>\n",
       "      <td>10</td>\n",
       "      <td>High School DxD</td>\n",
       "      <td>Comedy, Demons, Ecchi, Harem, Romance, School</td>\n",
       "      <td>TV</td>\n",
       "      <td>12</td>\n",
       "      <td>7.70</td>\n",
       "      <td>398660</td>\n",
       "    </tr>\n",
       "    <tr>\n",
       "      <th>2</th>\n",
       "      <td>1</td>\n",
       "      <td>11757</td>\n",
       "      <td>10</td>\n",
       "      <td>Sword Art Online</td>\n",
       "      <td>Action, Adventure, Fantasy, Game, Romance</td>\n",
       "      <td>TV</td>\n",
       "      <td>25</td>\n",
       "      <td>7.83</td>\n",
       "      <td>893100</td>\n",
       "    </tr>\n",
       "    <tr>\n",
       "      <th>3</th>\n",
       "      <td>1</td>\n",
       "      <td>15451</td>\n",
       "      <td>10</td>\n",
       "      <td>High School DxD New</td>\n",
       "      <td>Action, Comedy, Demons, Ecchi, Harem, Romance,...</td>\n",
       "      <td>TV</td>\n",
       "      <td>12</td>\n",
       "      <td>7.87</td>\n",
       "      <td>266657</td>\n",
       "    </tr>\n",
       "    <tr>\n",
       "      <th>4</th>\n",
       "      <td>2</td>\n",
       "      <td>11771</td>\n",
       "      <td>10</td>\n",
       "      <td>Kuroko no Basket</td>\n",
       "      <td>Comedy, School, Shounen, Sports</td>\n",
       "      <td>TV</td>\n",
       "      <td>25</td>\n",
       "      <td>8.46</td>\n",
       "      <td>338315</td>\n",
       "    </tr>\n",
       "    <tr>\n",
       "      <th>...</th>\n",
       "      <td>...</td>\n",
       "      <td>...</td>\n",
       "      <td>...</td>\n",
       "      <td>...</td>\n",
       "      <td>...</td>\n",
       "      <td>...</td>\n",
       "      <td>...</td>\n",
       "      <td>...</td>\n",
       "      <td>...</td>\n",
       "    </tr>\n",
       "    <tr>\n",
       "      <th>3918</th>\n",
       "      <td>51</td>\n",
       "      <td>759</td>\n",
       "      <td>10</td>\n",
       "      <td>Tokyo Godfathers</td>\n",
       "      <td>Comedy, Drama</td>\n",
       "      <td>Movie</td>\n",
       "      <td>1</td>\n",
       "      <td>8.32</td>\n",
       "      <td>89424</td>\n",
       "    </tr>\n",
       "    <tr>\n",
       "      <th>3920</th>\n",
       "      <td>51</td>\n",
       "      <td>790</td>\n",
       "      <td>9</td>\n",
       "      <td>Ergo Proxy</td>\n",
       "      <td>Mystery, Psychological, Sci-Fi</td>\n",
       "      <td>TV</td>\n",
       "      <td>23</td>\n",
       "      <td>8.03</td>\n",
       "      <td>265005</td>\n",
       "    </tr>\n",
       "    <tr>\n",
       "      <th>3921</th>\n",
       "      <td>51</td>\n",
       "      <td>801</td>\n",
       "      <td>10</td>\n",
       "      <td>Ghost in the Shell: Stand Alone Complex 2nd GIG</td>\n",
       "      <td>Action, Mecha, Military, Mystery, Police, Sci-...</td>\n",
       "      <td>TV</td>\n",
       "      <td>26</td>\n",
       "      <td>8.57</td>\n",
       "      <td>113993</td>\n",
       "    </tr>\n",
       "    <tr>\n",
       "      <th>3924</th>\n",
       "      <td>51</td>\n",
       "      <td>877</td>\n",
       "      <td>10</td>\n",
       "      <td>Nana</td>\n",
       "      <td>Comedy, Drama, Music, Romance, Shoujo, Slice o...</td>\n",
       "      <td>TV</td>\n",
       "      <td>47</td>\n",
       "      <td>8.55</td>\n",
       "      <td>197256</td>\n",
       "    </tr>\n",
       "    <tr>\n",
       "      <th>3926</th>\n",
       "      <td>51</td>\n",
       "      <td>953</td>\n",
       "      <td>6</td>\n",
       "      <td>Jyu Oh Sei</td>\n",
       "      <td>Action, Adventure, Drama, Mystery, Sci-Fi, Shoujo</td>\n",
       "      <td>TV</td>\n",
       "      <td>11</td>\n",
       "      <td>7.41</td>\n",
       "      <td>44766</td>\n",
       "    </tr>\n",
       "  </tbody>\n",
       "</table>\n",
       "<p>3342 rows × 9 columns</p>\n",
       "</div>"
      ],
      "text/plain": [
       "      user_id  anime_id  rating_x  \\\n",
       "0           1      8074        10   \n",
       "1           1     11617        10   \n",
       "2           1     11757        10   \n",
       "3           1     15451        10   \n",
       "4           2     11771        10   \n",
       "...       ...       ...       ...   \n",
       "3918       51       759        10   \n",
       "3920       51       790         9   \n",
       "3921       51       801        10   \n",
       "3924       51       877        10   \n",
       "3926       51       953         6   \n",
       "\n",
       "                                                 name  \\\n",
       "0                              Highschool of the Dead   \n",
       "1                                     High School DxD   \n",
       "2                                    Sword Art Online   \n",
       "3                                 High School DxD New   \n",
       "4                                    Kuroko no Basket   \n",
       "...                                               ...   \n",
       "3918                                 Tokyo Godfathers   \n",
       "3920                                       Ergo Proxy   \n",
       "3921  Ghost in the Shell: Stand Alone Complex 2nd GIG   \n",
       "3924                                             Nana   \n",
       "3926                                       Jyu Oh Sei   \n",
       "\n",
       "                                                  genre   type episodes  \\\n",
       "0                   Action, Ecchi, Horror, Supernatural     TV       12   \n",
       "1         Comedy, Demons, Ecchi, Harem, Romance, School     TV       12   \n",
       "2             Action, Adventure, Fantasy, Game, Romance     TV       25   \n",
       "3     Action, Comedy, Demons, Ecchi, Harem, Romance,...     TV       12   \n",
       "4                       Comedy, School, Shounen, Sports     TV       25   \n",
       "...                                                 ...    ...      ...   \n",
       "3918                                      Comedy, Drama  Movie        1   \n",
       "3920                     Mystery, Psychological, Sci-Fi     TV       23   \n",
       "3921  Action, Mecha, Military, Mystery, Police, Sci-...     TV       26   \n",
       "3924  Comedy, Drama, Music, Romance, Shoujo, Slice o...     TV       47   \n",
       "3926  Action, Adventure, Drama, Mystery, Sci-Fi, Shoujo     TV       11   \n",
       "\n",
       "      rating_y  members  \n",
       "0         7.46   535892  \n",
       "1         7.70   398660  \n",
       "2         7.83   893100  \n",
       "3         7.87   266657  \n",
       "4         8.46   338315  \n",
       "...        ...      ...  \n",
       "3918      8.32    89424  \n",
       "3920      8.03   265005  \n",
       "3921      8.57   113993  \n",
       "3924      8.55   197256  \n",
       "3926      7.41    44766  \n",
       "\n",
       "[3342 rows x 9 columns]"
      ]
     },
     "execution_count": 28,
     "metadata": {},
     "output_type": "execute_result"
    }
   ],
   "source": [
    "top_animes = df.groupby('name')\n",
    "top_animes.head()"
   ]
  },
  {
   "cell_type": "code",
   "execution_count": 18,
   "id": "07c596f0-8ab2-46a9-ada3-a9fd58887441",
   "metadata": {},
   "outputs": [
    {
     "data": {
      "text/plain": [
       "array([[<Axes: title={'center': 'user_id'}>,\n",
       "        <Axes: title={'center': 'anime_id'}>],\n",
       "       [<Axes: title={'center': 'rating_x'}>,\n",
       "        <Axes: title={'center': 'rating_y'}>],\n",
       "       [<Axes: title={'center': 'members'}>, <Axes: >]], dtype=object)"
      ]
     },
     "execution_count": 18,
     "metadata": {},
     "output_type": "execute_result"
    },
    {
     "data": {
      "image/png": "[encoded data removed]",
      "text/plain": [
       "<Figure size 1000x1000 with 6 Axes>"
      ]
     },
     "metadata": {},
     "output_type": "display_data"
    }
   ],
   "source": [
    "df.hist(figsize=[10, 10], bins=100)"
   ]
  },
  {
   "cell_type": "code",
   "execution_count": 19,
   "id": "82f16839-1b77-4f94-94ab-a832f3bad02d",
   "metadata": {},
   "outputs": [
    {
     "data": {
      "text/plain": [
       "<Axes: xlabel='user_id', ylabel='rating_x'>"
      ]
     },
     "execution_count": 19,
     "metadata": {},
     "output_type": "execute_result"
    },
    {
     "data": {
      "image/png": "[encoded data removed]",
      "text/plain": [
       "<Figure size 640x480 with 1 Axes>"
      ]
     },
     "metadata": {},
     "output_type": "display_data"
    }
   ],
   "source": [
    "sns.histplot(data=df, x='user_id', y='rating_x')"
   ]
  },
  {
   "cell_type": "markdown",
   "id": "97afa03c-a5eb-47c0-abbc-72fe2abb134e",
   "metadata": {},
   "source": [
    "## 3. Calculate the top-10 recommendations for each user"
   ]
  },
  {
   "cell_type": "code",
   "execution_count": 20,
   "id": "40169c19-8159-4350-a6a0-539533f99f6f",
   "metadata": {},
   "outputs": [],
   "source": [
    "#construct reader\n",
    "reader = Reader(rating_scale=(1, 10))\n",
    "#generate surprise dataset\n",
    "data = Dataset.load_from_df(df[['user_id', 'name', 'rating_x']], reader)"
   ]
  },
  {
   "cell_type": "code",
   "execution_count": 22,
   "id": "d3a842a2-83e4-41ba-9596-08ddada991b7",
   "metadata": {},
   "outputs": [
    {
     "name": "stdout",
     "output_type": "stream",
     "text": [
      "Computing the msd similarity matrix...\n",
      "Done computing similarity matrix.\n"
     ]
    },
    {
     "data": {
      "text/plain": [
       "<surprise.prediction_algorithms.knns.KNNBasic at 0x208c35904d0>"
      ]
     },
     "execution_count": 22,
     "metadata": {},
     "output_type": "execute_result"
    }
   ],
   "source": [
    "#set all data as training set\n",
    "trainset = data.build_full_trainset()\n",
    "\n",
    "#build and train an algorithm. Similar options\n",
    "\n",
    "sim_options = {\n",
    "               'user_based': True  # compute  similarities between items\n",
    "}\n",
    "\n",
    "algo = KNNBasic(sim_options=sim_options)\n",
    "algo.fit(trainset)"
   ]
  },
  {
   "cell_type": "code",
   "execution_count": 23,
   "id": "e722027d-58dc-4daa-8f72-580b53d4992a",
   "metadata": {},
   "outputs": [],
   "source": [
    "#predict ratings for all pairs (u, i) that are NOT in the training set\n",
    "testset = trainset.build_anti_testset()\n",
    "predictions = algo.test(testset)\n"
   ]
  },
  {
   "cell_type": "code",
   "execution_count": 24,
   "id": "1a34cb67-9005-48eb-bfd2-ef03a26b5e4a",
   "metadata": {},
   "outputs": [
    {
     "name": "stdout",
     "output_type": "stream",
     "text": [
      "1 ['Hayate no Gotoku! Can&#039;t Take My Eyes Off You', 'Hayate no Gotoku! Cuties', 'Rose of Versailles', 'Kurenai no Buta', 'Shoujo Kakumei Utena', 'Muumindani no Suisei', 'Monster', 'Ping Pong The Animation', 'Cowboy Bebop', 'Karigurashi no Arrietty']\n",
      "2 ['Dragon Ball Z Movie 10: Kiken na Futari! Super Senshi wa Nemurenai', 'Dragon Ball Z Movie 12: Fukkatsu no Fusion!! Gokuu to Vegeta', 'Detroit Metal City', 'Arakawa Under the Bridge', 'Arakawa Under the Bridge x Bridge', 'Inu x Boku SS', 'Hagure Yuusha no Aesthetica', 'Saint☆Oniisan', 'Noragami OVA', 'Hunter x Hunter (2011)']\n",
      "3 ['Hayate no Gotoku! Can&#039;t Take My Eyes Off You', 'Hayate no Gotoku! Cuties', 'Rose of Versailles', 'Kurenai no Buta', 'Muumindani no Suisei', 'Ping Pong The Animation', 'Final Fantasy VII: Advent Children Complete', 'Aku no Hana', 'Mobile Fighter G Gundam', 'Seihou Bukyou Outlaw Star']\n",
      "5 ['Hayate no Gotoku! Can&#039;t Take My Eyes Off You', 'Hayate no Gotoku! Cuties', 'Rose of Versailles', 'Kurenai no Buta', 'Muumindani no Suisei', 'Ping Pong The Animation', 'Final Fantasy VII: Advent Children Complete', 'Boku wa Imouto ni Koi wo Suru', 'Kirepapa.', '11eyes: Momoiro Genmutan']\n",
      "7 ['Rose of Versailles', 'Kurenai no Buta', 'Muumindani no Suisei', 'Ping Pong The Animation', 'Final Fantasy VII: Advent Children Complete', 'Boku wa Imouto ni Koi wo Suru', 'Kirepapa.', '11eyes: Momoiro Genmutan', 'Aku no Hana', 'Mobile Fighter G Gundam']\n",
      "8 ['Hayate no Gotoku! Can&#039;t Take My Eyes Off You', 'Hayate no Gotoku! Cuties', 'Rose of Versailles', 'Kurenai no Buta', 'Muumindani no Suisei', 'Monster', 'Ping Pong The Animation', 'Final Fantasy VII: Advent Children Complete', 'Boku wa Imouto ni Koi wo Suru', 'Kirepapa.']\n",
      "9 ['Fullmetal Alchemist: Brotherhood', 'Gintama Movie: Kanketsu-hen - Yorozuya yo Eien Nare', 'Umineko no Naku Koro ni', 'Hayate no Gotoku! Can&#039;t Take My Eyes Off You', 'Hayate no Gotoku! Cuties', 'Fruits Basket', 'Tonari no Totoro', 'Ouran Koukou Host Club', 'Tengen Toppa Gurren Lagann', 'School Days']\n",
      "10 ['Hayate no Gotoku! Can&#039;t Take My Eyes Off You', 'Hayate no Gotoku! Cuties', 'Rose of Versailles', 'Kurenai no Buta', 'Muumindani no Suisei', 'Monster', 'Ping Pong The Animation', 'Aku no Hana', 'Interstella5555: The 5tory of The 5ecret 5tar 5ystem', 'Dragon Ball Z Special 1: Tatta Hitori no Saishuu Kessen']\n",
      "11 ['Hayate no Gotoku! Can&#039;t Take My Eyes Off You', 'Hayate no Gotoku! Cuties', 'Final Fantasy VII: Advent Children Complete', 'Boku wa Imouto ni Koi wo Suru', 'Kirepapa.', '11eyes: Momoiro Genmutan', 'Mobile Fighter G Gundam', 'Seihou Bukyou Outlaw Star', 'Karin', 'Zoids']\n",
      "12 ['Hayate no Gotoku! Can&#039;t Take My Eyes Off You', 'Hayate no Gotoku! Cuties', 'Rose of Versailles', 'Kurenai no Buta', 'Muumindani no Suisei', 'Ping Pong The Animation', 'Final Fantasy VII: Advent Children Complete', 'Boku wa Imouto ni Koi wo Suru', 'Kirepapa.', '11eyes: Momoiro Genmutan']\n",
      "14 ['Hayate no Gotoku! Can&#039;t Take My Eyes Off You', 'Hayate no Gotoku! Cuties', 'Rose of Versailles', 'Kurenai no Buta', 'Muumindani no Suisei', 'Ping Pong The Animation', 'Final Fantasy VII: Advent Children Complete', 'Boku wa Imouto ni Koi wo Suru', 'Kirepapa.', '11eyes: Momoiro Genmutan']\n",
      "15 ['Sen to Chihiro no Kamikakushi', 'Dragon Ball Z', 'Death Note', 'Shingeki no Kyojin', 'Pokemon: The Origin', 'Boku dake ga Inai Machi', 'Great Teacher Onizuka', 'Bleach', 'Gintama', 'Nabari no Ou']\n",
      "16 ['Hayate no Gotoku! Can&#039;t Take My Eyes Off You', 'Hayate no Gotoku! Cuties', 'Rose of Versailles', 'Kurenai no Buta', 'Muumindani no Suisei', 'Ping Pong The Animation', 'Final Fantasy VII: Advent Children Complete', 'Aku no Hana', 'Interstella5555: The 5tory of The 5ecret 5tar 5ystem', 'Dragon Ball Z Special 1: Tatta Hitori no Saishuu Kessen']\n",
      "17 ['Hayate no Gotoku! Can&#039;t Take My Eyes Off You', 'Hayate no Gotoku! Cuties', 'Final Fantasy VII: Advent Children Complete', 'Boku wa Imouto ni Koi wo Suru', 'Kirepapa.', '11eyes: Momoiro Genmutan', 'Aku no Hana', 'Mobile Fighter G Gundam', 'Seihou Bukyou Outlaw Star', 'Karin']\n",
      "18 ['Hayate no Gotoku! Can&#039;t Take My Eyes Off You', 'Hayate no Gotoku! Cuties', 'Rose of Versailles', 'Kurenai no Buta', 'Muumindani no Suisei', 'Ping Pong The Animation', 'Boku wa Imouto ni Koi wo Suru', 'Kirepapa.', '11eyes: Momoiro Genmutan', 'Aku no Hana']\n",
      "19 ['Hayate no Gotoku! Can&#039;t Take My Eyes Off You', 'Hayate no Gotoku! Cuties', 'Rose of Versailles', 'Kurenai no Buta', 'Muumindani no Suisei', 'Ping Pong The Animation', 'Final Fantasy VII: Advent Children Complete', 'Aku no Hana', 'Mobile Fighter G Gundam', 'Seihou Bukyou Outlaw Star']\n",
      "20 ['Fairy Tail x Rave', 'Hayate no Gotoku! Can&#039;t Take My Eyes Off You', 'Hayate no Gotoku! Cuties', 'Rose of Versailles', 'Kurenai no Buta', 'Muumindani no Suisei', 'Ping Pong The Animation', 'Final Fantasy VII: Advent Children Complete', 'Aku no Hana', 'Mobile Fighter G Gundam']\n",
      "21 ['Hayate no Gotoku! Can&#039;t Take My Eyes Off You', 'Hayate no Gotoku! Cuties', 'Rose of Versailles', 'Kurenai no Buta', 'Muumindani no Suisei', 'Ping Pong The Animation', 'Final Fantasy VII: Advent Children Complete', 'Boku wa Imouto ni Koi wo Suru', 'Kirepapa.', '11eyes: Momoiro Genmutan']\n",
      "22 ['Koe de Oshigoto! The Animation', 'Kämpfer für die Liebe', 'Hunter x Hunter (2011)', 'Arcana Famiglia: Capriccio - stile Arcana Famiglia', 'Date A Live: Encore OVA', 'Rose of Versailles', 'Kurenai no Buta', 'Muumindani no Suisei', 'Monster', 'Ping Pong The Animation']\n",
      "23 ['Hayate no Gotoku! Can&#039;t Take My Eyes Off You', 'Hayate no Gotoku! Cuties', 'Rose of Versailles', 'Kurenai no Buta', 'Muumindani no Suisei', 'Ping Pong The Animation', 'Final Fantasy VII: Advent Children Complete', 'Boku wa Imouto ni Koi wo Suru', 'Kirepapa.', '11eyes: Momoiro Genmutan']\n",
      "24 ['Hayate no Gotoku! Can&#039;t Take My Eyes Off You', 'Hayate no Gotoku! Cuties', 'Rose of Versailles', 'Kurenai no Buta', 'Muumindani no Suisei', 'Ping Pong The Animation', 'Final Fantasy VII: Advent Children Complete', 'Boku wa Imouto ni Koi wo Suru', 'Kirepapa.', '11eyes: Momoiro Genmutan']\n",
      "25 ['Hayate no Gotoku! Can&#039;t Take My Eyes Off You', 'Hayate no Gotoku! Cuties', 'Rose of Versailles', 'Kurenai no Buta', 'Muumindani no Suisei', 'Ping Pong The Animation', 'Final Fantasy VII: Advent Children Complete', 'Aku no Hana', 'Mobile Fighter G Gundam', 'Seihou Bukyou Outlaw Star']\n",
      "26 ['Hayate no Gotoku! Can&#039;t Take My Eyes Off You', 'Hayate no Gotoku! Cuties', 'Wolf&#039;s Rain', 'Majo no Takkyuubin', 'Monster', 'Ping Pong The Animation', 'Aku no Hana', 'Gedo Senki', 'K-On!: Live House!', 'K-On!!: Keikaku!']\n",
      "27 ['Hayate no Gotoku! Can&#039;t Take My Eyes Off You', 'Hayate no Gotoku! Cuties', 'Rose of Versailles', 'Kurenai no Buta', 'Muumindani no Suisei', 'Ping Pong The Animation', 'Final Fantasy VII: Advent Children Complete', 'Boku wa Imouto ni Koi wo Suru', 'Kirepapa.', '11eyes: Momoiro Genmutan']\n",
      "28 ['Hayate no Gotoku! Can&#039;t Take My Eyes Off You', 'Hayate no Gotoku! Cuties', 'Rose of Versailles', 'Kurenai no Buta', 'Muumindani no Suisei', 'Monster', 'Ping Pong The Animation', 'Final Fantasy VII: Advent Children Complete', 'Boku wa Imouto ni Koi wo Suru', 'Kirepapa.']\n",
      "29 ['Hayate no Gotoku! Can&#039;t Take My Eyes Off You', 'Hayate no Gotoku! Cuties', 'Rose of Versailles', 'Kurenai no Buta', 'Muumindani no Suisei', 'Ping Pong The Animation', 'Final Fantasy VII: Advent Children Complete', 'Boku wa Imouto ni Koi wo Suru', 'Kirepapa.', '11eyes: Momoiro Genmutan']\n",
      "30 ['Hayate no Gotoku! Can&#039;t Take My Eyes Off You', 'Hayate no Gotoku! Cuties', 'Rose of Versailles', 'Kurenai no Buta', 'Muumindani no Suisei', 'Ping Pong The Animation', 'Final Fantasy VII: Advent Children Complete', 'Aku no Hana', 'Interstella5555: The 5tory of The 5ecret 5tar 5ystem', 'Dragon Ball Z Special 1: Tatta Hitori no Saishuu Kessen']\n",
      "31 ['Hayate no Gotoku! Can&#039;t Take My Eyes Off You', 'Hayate no Gotoku! Cuties', 'Rose of Versailles', 'Kurenai no Buta', 'Muumindani no Suisei', 'Ping Pong The Animation', 'Final Fantasy VII: Advent Children Complete', 'Boku wa Imouto ni Koi wo Suru', 'Kirepapa.', '11eyes: Momoiro Genmutan']\n",
      "32 ['Hayate no Gotoku! Can&#039;t Take My Eyes Off You', 'Hayate no Gotoku! Cuties', 'Rose of Versailles', 'Kurenai no Buta', 'Muumindani no Suisei', 'Break Blade 1: Kakusei no Toki', 'Break Blade 2: Ketsubetsu no Michi', 'Break Blade 3: Kyoujin no Ato', 'Break Blade 4: Sanka no Chi', 'Break Blade 5: Shisen no Hate']\n",
      "33 ['Hayate no Gotoku! Can&#039;t Take My Eyes Off You', 'Hayate no Gotoku! Cuties', 'Rose of Versailles', 'Kurenai no Buta', 'Muumindani no Suisei', 'Ping Pong The Animation', 'Final Fantasy VII: Advent Children Complete', 'Aku no Hana', 'Mobile Fighter G Gundam', 'Seihou Bukyou Outlaw Star']\n",
      "34 ['Hayate no Gotoku! Can&#039;t Take My Eyes Off You', 'Hayate no Gotoku! Cuties', 'Rose of Versailles', 'Kurenai no Buta', 'Muumindani no Suisei', 'Ping Pong The Animation', 'Final Fantasy VII: Advent Children Complete', 'Aku no Hana', 'Mobile Fighter G Gundam', 'Seihou Bukyou Outlaw Star']\n",
      "35 ['Highschool of the Dead', 'High School DxD', 'Sword Art Online', 'High School DxD New', 'Kuroko no Basket', 'Naruto', 'Shaman King', 'Slam Dunk', 'Sen to Chihiro no Kamikakushi', 'Dragon Ball GT']\n",
      "36 ['Hotarubi no Mori e', 'Log Horizon', 'Haikyuu!!', 'Log Horizon 2nd Season', 'Haikyuu!! Second Season', 'Neon Genesis Evangelion', 'Great Teacher Onizuka', 'Yuu☆Yuu☆Hakusho', 'Zero no Tsukaima: Futatsuki no Kishi', 'Stranger: Mukou Hadan']\n",
      "37 ['Hayate no Gotoku! Can&#039;t Take My Eyes Off You', 'Hayate no Gotoku! Cuties', 'Rose of Versailles', 'Kurenai no Buta', 'Muumindani no Suisei', 'Ping Pong The Animation', 'Final Fantasy VII: Advent Children Complete', 'Boku wa Imouto ni Koi wo Suru', 'Kirepapa.', '11eyes: Momoiro Genmutan']\n",
      "38 ['Hayate no Gotoku! Can&#039;t Take My Eyes Off You', 'Hayate no Gotoku! Cuties', 'Rose of Versailles', 'Kurenai no Buta', 'Muumindani no Suisei', 'Ping Pong The Animation', 'Final Fantasy VII: Advent Children Complete', 'Boku wa Imouto ni Koi wo Suru', 'Kirepapa.', '11eyes: Momoiro Genmutan']\n",
      "39 ['Hayate no Gotoku! Can&#039;t Take My Eyes Off You', 'Hayate no Gotoku! Cuties', 'Rose of Versailles', 'Kurenai no Buta', 'Muumindani no Suisei', 'Ping Pong The Animation', 'Final Fantasy VII: Advent Children Complete', 'Boku wa Imouto ni Koi wo Suru', 'Kirepapa.', '11eyes: Momoiro Genmutan']\n",
      "40 ['Hayate no Gotoku! Can&#039;t Take My Eyes Off You', 'Hayate no Gotoku! Cuties', 'Rose of Versailles', 'Kurenai no Buta', 'Muumindani no Suisei', 'Ping Pong The Animation', 'Final Fantasy VII: Advent Children Complete', 'Boku wa Imouto ni Koi wo Suru', 'Kirepapa.', '11eyes: Momoiro Genmutan']\n",
      "41 ['Hayate no Gotoku! Can&#039;t Take My Eyes Off You', 'Hayate no Gotoku! Cuties', 'Rose of Versailles', 'Kurenai no Buta', 'Muumindani no Suisei', 'Ping Pong The Animation', 'Final Fantasy VII: Advent Children Complete', 'Boku wa Imouto ni Koi wo Suru', 'Kirepapa.', '11eyes: Momoiro Genmutan']\n",
      "42 ['Hunter x Hunter (2011)', 'Arcana Famiglia: Capriccio - stile Arcana Famiglia', 'Date A Live: Encore OVA', 'Rose of Versailles', 'Kurenai no Buta', 'Muumindani no Suisei', 'Monster', 'Ping Pong The Animation', 'Aku no Hana', 'Interstella5555: The 5tory of The 5ecret 5tar 5ystem']\n",
      "43 ['Hayate no Gotoku! Can&#039;t Take My Eyes Off You', 'Hayate no Gotoku! Cuties', 'Rose of Versailles', 'Kurenai no Buta', 'Muumindani no Suisei', 'Ping Pong The Animation', 'Final Fantasy VII: Advent Children Complete', 'Boku wa Imouto ni Koi wo Suru', 'Kirepapa.', '11eyes: Momoiro Genmutan']\n",
      "44 ['Hayate no Gotoku! Can&#039;t Take My Eyes Off You', 'Hayate no Gotoku! Cuties', 'Rose of Versailles', 'Kurenai no Buta', 'Muumindani no Suisei', 'Ping Pong The Animation', 'Final Fantasy VII: Advent Children Complete', 'Boku wa Imouto ni Koi wo Suru', 'Kirepapa.', '11eyes: Momoiro Genmutan']\n",
      "45 ['Hayate no Gotoku! Can&#039;t Take My Eyes Off You', 'Hayate no Gotoku! Cuties', 'Rose of Versailles', 'Kurenai no Buta', 'Muumindani no Suisei', 'Ping Pong The Animation', 'Final Fantasy VII: Advent Children Complete', 'Boku wa Imouto ni Koi wo Suru', 'Kirepapa.', '11eyes: Momoiro Genmutan']\n",
      "46 ['Hayate no Gotoku! Can&#039;t Take My Eyes Off You', 'Hayate no Gotoku! Cuties', 'Rose of Versailles', 'Kurenai no Buta', 'Muumindani no Suisei', 'Ping Pong The Animation', 'Final Fantasy VII: Advent Children Complete', 'Boku wa Imouto ni Koi wo Suru', 'Kirepapa.', '11eyes: Momoiro Genmutan']\n",
      "47 ['Hayate no Gotoku! Can&#039;t Take My Eyes Off You', 'Hayate no Gotoku! Cuties', 'Rose of Versailles', 'Kurenai no Buta', 'Muumindani no Suisei', 'Ping Pong The Animation', 'Final Fantasy VII: Advent Children Complete', 'Boku wa Imouto ni Koi wo Suru', 'Kirepapa.', '11eyes: Momoiro Genmutan']\n",
      "48 ['Hayate no Gotoku! Can&#039;t Take My Eyes Off You', 'Hayate no Gotoku! Cuties', 'Rose of Versailles', 'Kurenai no Buta', 'Muumindani no Suisei', 'Ping Pong The Animation', 'Final Fantasy VII: Advent Children Complete', 'Boku wa Imouto ni Koi wo Suru', 'Kirepapa.', '11eyes: Momoiro Genmutan']\n",
      "50 ['Hayate no Gotoku! Can&#039;t Take My Eyes Off You', 'Hayate no Gotoku! Cuties', 'Rose of Versailles', 'Kurenai no Buta', 'Muumindani no Suisei', 'Ping Pong The Animation', 'Final Fantasy VII: Advent Children Complete', 'Boku wa Imouto ni Koi wo Suru', 'Kirepapa.', '11eyes: Momoiro Genmutan']\n",
      "51 ['Hayate no Gotoku! Can&#039;t Take My Eyes Off You', 'Hayate no Gotoku! Cuties', 'Rose of Versailles', 'Kurenai no Buta', 'Muumindani no Suisei', 'Ping Pong The Animation', 'Final Fantasy VII: Advent Children Complete', 'Boku wa Imouto ni Koi wo Suru', 'Kirepapa.', '11eyes: Momoiro Genmutan']\n"
     ]
    }
   ],
   "source": [
    "# Check Surprise documentation at\n",
    "# http://surprise.readthedocs.io/en/stable/FAQ.html#how-to-get-the-top-n-recommendations-for-each-user\n",
    "\n",
    "def get_top_n(predictions, n=10):\n",
    "    '''Return the top-N recommendation for each user from a set of predictions.\n",
    "\n",
    "    Args:\n",
    "        predictions(list of Prediction objects): The list of predictions, as\n",
    "            returned by the test method of an algorithm.\n",
    "        n(int): The number of recommendation to output for each user. Default\n",
    "            is 10.\n",
    "\n",
    "    Returns:\n",
    "    A dict where keys are user (raw) ids and values are lists of tuples:\n",
    "        [(raw item id, rating estimation), ...] of size n.\n",
    "    '''\n",
    "\n",
    "    # First map the predictions to each user.\n",
    "    top_n = defaultdict(list)\n",
    "    for uid, iid, true_r, est, _ in predictions:\n",
    "        top_n[uid].append((iid, est))\n",
    "\n",
    "    # Then sort the predictions for each user and retrieve the k highest ones.\n",
    "    for uid, user_ratings in top_n.items():\n",
    "        user_ratings.sort(key=lambda x: x[1], reverse=True)\n",
    "        top_n[uid] = user_ratings[:n]\n",
    "\n",
    "    return top_n\n",
    "\n",
    "top_n = get_top_n(predictions, n=10)\n",
    "\n",
    "# Print the recommended items for each user\n",
    "for uid, user_ratings in top_n.items():\n",
    "    print(uid, [iid for (iid, _) in user_ratings])"
   ]
  },
  {
   "cell_type": "code",
   "execution_count": 25,
   "id": "9155eebb-4d3c-4576-b07a-1122233b040c",
   "metadata": {},
   "outputs": [
    {
     "name": "stdout",
     "output_type": "stream",
     "text": [
      "Computing the msd similarity matrix...\n",
      "Done computing similarity matrix.\n",
      "Computing the msd similarity matrix...\n",
      "Done computing similarity matrix.\n",
      "Computing the msd similarity matrix...\n",
      "Done computing similarity matrix.\n",
      "Computing the msd similarity matrix...\n",
      "Done computing similarity matrix.\n",
      "Computing the msd similarity matrix...\n",
      "Done computing similarity matrix.\n",
      "Evaluating MAE, RMSE of algorithm KNNBasic on 5 split(s).\n",
      "\n",
      "                  Fold 1  Fold 2  Fold 3  Fold 4  Fold 5  Mean    Std     \n",
      "MAE (testset)     1.5028  1.4963  1.5714  1.5771  1.5799  1.5455  0.0377  \n",
      "RMSE (testset)    2.0724  2.0214  2.1522  2.1849  2.1803  2.1222  0.0646  \n",
      "Fit time          0.00    0.00    0.00    0.00    0.00    0.00    0.00    \n",
      "Test time         0.00    0.01    0.01    0.00    0.01    0.01    0.00    \n"
     ]
    },
    {
     "data": {
      "text/plain": [
       "{'test_mae': array([1.50277943, 1.49631337, 1.57138038, 1.57712986, 1.57990785]),\n",
       " 'test_rmse': array([2.07244896, 2.0213787 , 2.15217148, 2.18490344, 2.18032421]),\n",
       " 'fit_time': (0.000997781753540039,\n",
       "  0.000997781753540039,\n",
       "  0.0009975433349609375,\n",
       "  0.0,\n",
       "  0.0009961128234863281),\n",
       " 'test_time': (0.00498652458190918,\n",
       "  0.005983114242553711,\n",
       "  0.006011009216308594,\n",
       "  0.004990100860595703,\n",
       "  0.005983591079711914)}"
      ]
     },
     "execution_count": 25,
     "metadata": {},
     "output_type": "execute_result"
    }
   ],
   "source": [
    "# Evaluate accuracy\n",
    "# MAE = mean absolute error, RMSE = root mean squared error\n",
    "cross_validate(algo, data, measures=['MAE', 'RMSE'], cv=5, verbose=True)"
   ]
  }
 ],
 "metadata": {
  "kernelspec": {
   "display_name": "Python 3 (ipykernel)",
   "language": "python",
   "name": "python3"
  },
  "language_info": {
   "codemirror_mode": {
    "name": "ipython",
    "version": 3
   },
   "file_extension": ".py",
   "mimetype": "text/x-python",
   "name": "python",
   "nbconvert_exporter": "python",
   "pygments_lexer": "ipython3",
   "version": "3.11.4"
  }
 },
 "nbformat": 4,
 "nbformat_minor": 5
}
